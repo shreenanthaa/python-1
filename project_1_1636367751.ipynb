{
 "cells": [
  {
   "cell_type": "markdown",
   "id": "7795817a",
   "metadata": {},
   "source": [
    "# English dictionary app"
   ]
  },
  {
   "cell_type": "code",
   "execution_count": 7,
   "id": "a978f3c3",
   "metadata": {},
   "outputs": [
    {
     "name": "stdout",
     "output_type": "stream",
     "text": [
      "Main Menu\n",
      "1.Add a new word\n",
      "2.Find the meaning\n",
      "3.Update a word\n",
      "4.Exit\n",
      "Enter opt 1 to 4:1\n",
      "enter the word:lion\n",
      "enter the meaning:animal\n",
      "Enter opt 1 to 4:1\n",
      "enter the word:cow\n",
      "enter the meaning:animal\n",
      "Enter opt 1 to 4:2\n",
      "Enter the word:lion\n",
      "Meaning of lion is animal\n",
      "Enter opt 1 to 4:3\n",
      "Enter the word:lion\n",
      "updated meaning:human\n",
      "updated Meaning of lion is human\n",
      "Enter opt 1 to 4:3\n",
      "Enter the word:lion\n",
      "updated meaning:animal\n",
      "updated Meaning of lion is animal\n",
      "Enter opt 1 to 4:4\n",
      "Exit\n"
     ]
    }
   ],
   "source": [
    "import json\n",
    "print('''Main Menu\n",
    "1.Add a new word\n",
    "2.Find the meaning\n",
    "3.Update a word\n",
    "4.Exit''')\n",
    "engl_dict=dict()\n",
    "count=0\n",
    "while count>=0:\n",
    "    n=int(input('Enter opt 1 to 4:'))\n",
    "    if n==1:\n",
    "        r=input(str('enter the word:'))\n",
    "        s=input(str('enter the meaning:'))\n",
    "        engl_dict[r]=s\n",
    "        f=open('words.txt','w')\n",
    "        json.dump(engl_dict,f)\n",
    "        f.close()\n",
    "        count+=1\n",
    "    elif n==2:\n",
    "        t=input(str('Enter the word:'))\n",
    "        f=open('words.txt','r')\n",
    "        engl_dict=json.load(f)\n",
    "        for i in engl_dict :\n",
    "            if i==t:\n",
    "                print('Meaning of',t,'is',engl_dict[i])\n",
    "                f.close()\n",
    "                break\n",
    "    elif n==3:\n",
    "        u=input(str('Enter the word:'))\n",
    "        f=open('words.txt','r')\n",
    "        engl_dict=json.load(f)\n",
    "        for j in engl_dict :\n",
    "            if j==u:\n",
    "                v=input(str('updated meaning:'))\n",
    "                engl_dict[u]=v\n",
    "                f=open('words.txt','w')\n",
    "                json.dump(engl_dict,f)\n",
    "                print('updated Meaning of',u,'is',engl_dict[j])\n",
    "                f.close()\n",
    "                break\n",
    "    elif n==4:\n",
    "        print('Exit')\n",
    "        break\n",
    "    else:\n",
    "        print('enterd no is out of range')\n",
    "\n",
    "    "
   ]
  },
  {
   "cell_type": "code",
   "execution_count": null,
   "id": "53d2fd04",
   "metadata": {},
   "outputs": [],
   "source": []
  }
 ],
 "metadata": {
  "kernelspec": {
   "display_name": "Python 3",
   "language": "python",
   "name": "python3"
  }
 },
 "nbformat": 4,
 "nbformat_minor": 5
}
